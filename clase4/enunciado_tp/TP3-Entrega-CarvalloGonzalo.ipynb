{
 "cells": [
  {
   "cell_type": "markdown",
   "metadata": {},
   "source": [
    "# Aprendizaje Automatico (CEIoT): Trabajo Practico N°1\n",
    "## Alumno: Gonzalo Carvallo (i0810)\n",
    "\n",
    "# Resolvemos los ejercicios de TP1 y TP2 usando árboles de decisión\n",
    "\n",
    "## TP1 - Regresión de calidad de vino portugués \"Vinho Verde\"\n",
    "\n",
    "En el TP1 se trabajó con un dataset de vinos portugués \"Vinho Verde\" en la variante tinta. Se cuenta con variables fisicoquímicas (entradas) y un puntaje de clasificación de tipo de vino. El análisis lo hicimos en el TP1, aquí vamos a ir directamente a implementar el modelo.\n",
    "\n",
    "Se importan todas las librerias que usaremos. Luego leemos el dataset y preparamos todo, igual que en el TP1."
   ]
  },
  {
   "cell_type": "code",
   "execution_count": 3,
   "metadata": {},
   "outputs": [],
   "source": [
    "import pandas as pd\n",
    "import numpy as np\n",
    "import matplotlib.pyplot as plt\n",
    "import seaborn as sns\n",
    "sns.set()"
   ]
  },
  {
   "cell_type": "code",
   "execution_count": 4,
   "metadata": {},
   "outputs": [
    {
     "name": "stdout",
     "output_type": "stream",
     "text": [
      "La forma de X es (1599, 11)\n",
      "La forma de y es (1599,)\n"
     ]
    }
   ],
   "source": [
    "# Leemos el dataset\n",
    "wine_df = pd.read_csv(\"datasets/winequality-red.csv\")\n",
    "\n",
    "# Obtenemos a X e y.\n",
    "# Para X usamos todas las columnas menos el target\n",
    "X = wine_df.drop(columns=[\"quality\"])\n",
    "y = wine_df[\"quality\"]\n",
    "\n",
    "print(f\"La forma de X es {X.shape}\")\n",
    "print(f\"La forma de y es {y.shape}\")\n",
    "\n",
    "# Separamos el dataset en training y test\n",
    "from sklearn.model_selection import train_test_split\n",
    "\n",
    "# Como no hay una buena distribución de valores entre las calidades de vino, usamos el argumento opcional \n",
    "# para que se mantenga la proporción en los conjuntos de entrenamiento y testeo. \n",
    "X_train, X_test, y_train, y_test = train_test_split(X, y, test_size=0.2, random_state=42, stratify=y)\n",
    "\n",
    "# Como estamos trabajando con árboles, no vamos a realizar ninguna normalización\n",
    "\n",
    "# Cargamos las métricas de evaluación que usamos en el TP1\n",
    "from sklearn.metrics import r2_score, mean_absolute_error\n",
    "\n"
   ]
  },
  {
   "cell_type": "markdown",
   "metadata": {},
   "source": [
    "Ya con el dataset leido y separado el entrenamiento y validación, podemos a realizar el entrenamiento.\n",
    "\n",
    "Antes de entrenar el modelo, vamos a realizar una busqueda de hiperparametros. Vamos a usar una validación cruzada de 5 folds y una busqueda de grilla.\n",
    "\n",
    "Para este caso vamos usar el podado de arboles, usando el coeficiente alpha (la busqueda tambien se podria haber hecho jugando con niveles del arbol o cantidad de muestra por hoja)."
   ]
  },
  {
   "cell_type": "code",
   "execution_count": 5,
   "metadata": {},
   "outputs": [],
   "source": [
    "# Llamamos a GridSearch de sklearn\n",
    "from sklearn.model_selection import GridSearchCV, StratifiedKFold"
   ]
  },
  {
   "cell_type": "code",
   "execution_count": 10,
   "metadata": {},
   "outputs": [],
   "source": [
    "# Creamos el modelo base para buscar los hiperparámetros\n",
    "from sklearn.tree import DecisionTreeRegressor\n",
    "\n",
    "# Creamos el árbol\n",
    "reg_tree = DecisionTreeRegressor(criterion='squared_error', splitter='best', \n",
    "                                 max_depth=None, min_samples_split=2, min_samples_leaf=1)\n",
    "\n"
   ]
  },
  {
   "cell_type": "code",
   "execution_count": 11,
   "metadata": {},
   "outputs": [
    {
     "name": "stdout",
     "output_type": "stream",
     "text": [
      "{'ccp_alpha': 0.0}\n"
     ]
    }
   ],
   "source": [
    "# Hacemos la búsqueda de grilla\n",
    "grid_wine = GridSearchCV(reg_tree,\n",
    "                         {\"ccp_alpha\": np.linspace(0, 100, 1001)},\n",
    "                         refit=True,\n",
    "                         cv=StratifiedKFold(n_splits=5, shuffle=True),\n",
    "                         scoring='neg_mean_absolute_error',\n",
    "                         n_jobs=-1)\n",
    "grid_wine.fit(X_train, y_train)\n",
    "\n",
    "# El mejor valor de hiperparámetros es:\n",
    "print(grid_wine.best_params_)\n",
    "\n"
   ]
  },
  {
   "cell_type": "markdown",
   "metadata": {},
   "source": [
    "Nos quedamos con el mejor modelo elegido en nuestra búsqueda."
   ]
  },
  {
   "cell_type": "code",
   "execution_count": 12,
   "metadata": {},
   "outputs": [],
   "source": [
    "best_tree_wine = grid_wine.best_estimator_\n"
   ]
  },
  {
   "cell_type": "markdown",
   "metadata": {},
   "source": [
    "Ya elegido el mejor modelo, vamos a entrenar y evaluar el modelo."
   ]
  },
  {
   "cell_type": "code",
   "execution_count": 19,
   "metadata": {},
   "outputs": [
    {
     "name": "stdout",
     "output_type": "stream",
     "text": [
      "El mejor árbol tuvo un coeficiente de ajuste (R^2) igual a 0.14280525455536053\n",
      "El mejor árbol tuvo un MAE de 0.396875\n"
     ]
    }
   ],
   "source": [
    "# Entrenamos al modelo\n",
    "best_tree_wine.fit(X_train, y_train)\n",
    "\n",
    "# Evaluamos el modelo\n",
    "y_pred = best_tree_wine.predict(X_test)\n",
    "rsquare_tree = r2_score(y_test, y_pred)\n",
    "mae_tree = mean_absolute_error(y_test, y_pred)\n",
    "\n",
    "print(f\"El mejor árbol tuvo un coeficiente de ajuste (R^2) igual a {rsquare_tree}\")\n",
    "print(f\"El mejor árbol tuvo un MAE de {mae_tree}\")\n"
   ]
  },
  {
   "cell_type": "markdown",
   "metadata": {},
   "source": [
    "Comparando los modelos que realizamos:\n",
    "\n",
    "- Modelo de regresion lineal\n",
    "- Modelo de regresión multiple\n",
    "- Arbol de decisión\n",
    "\n",
    "Las metricas que obtuvimos son:\n",
    "\n",
    "| Modelo              | MAE  | R2   |\n",
    "|---------------------|------|------|\n",
    "| Regresión lineal    | 0.50 | 0.37 |\n",
    "| Regresión multiple  | 0.50 | 0.37 |\n",
    "| Arbol de decisión   | 0.40 | 0.14 |\n",
    "\n",
    "En función a estos resultados y complejidad de los modelos, discutir cual es el mejor modelo. Algo extra que se puede hacer si desean, es ver el árbol que se arma y determinar en los primeros niveles, que son las cualidades mas importantes del vino usando graphwiz (ver el notebook que hicimos en clase)."
   ]
  },
  {
   "cell_type": "markdown",
   "metadata": {},
   "source": [
    "## TP2 - Clasificación de usuarios en campaña de red social\n",
    "\n",
    "En el TP2 se trabajó con un dataset de publicidad que lanzó una campaña de publicidad en una red social. Se cuenta con datos de la persona tales como `genero`, `edad` y `salario estimado`. Además se registró si el usuario luego compró el producto que la publicidad hacía referencia.\n",
    "\n",
    "Por lo que primero leemos el dataset y preparamos todo, igual que en el TP2."
   ]
  },
  {
   "cell_type": "code",
   "execution_count": 20,
   "metadata": {},
   "outputs": [
    {
     "name": "stdout",
     "output_type": "stream",
     "text": [
      "La forma de X es (400, 3)\n",
      "La forma de y es (400,)\n"
     ]
    }
   ],
   "source": [
    "# Leemos el dataset\n",
    "social_df = pd.read_csv(\"datasets/Social_Network_Ads.csv\")\n",
    "\n",
    "# Dropeamos la columna que identifica a los usuarios\n",
    "social_df.drop(columns=\"User ID\", inplace=True)\n",
    "\n",
    "# Generamos dummies para genero\n",
    "social_df = pd.get_dummies(social_df, columns=[\"Gender\"], drop_first=True)\n",
    "\n",
    "# Obtenemos a X e y.\n",
    "# Para X usamos todas las columnas menos el target\n",
    "X = social_df.drop(columns=\"Purchased\")\n",
    "y = social_df[\"Purchased\"]\n",
    "\n",
    "print(f\"La forma de X es {X.shape}\")\n",
    "print(f\"La forma de y es {y.shape}\")\n",
    "\n",
    "# Separamos el dataset en training y test\n",
    "from sklearn.model_selection import train_test_split\n",
    "\n",
    "X_train, X_test, y_train, y_test = train_test_split(X, y, test_size=.3, \n",
    "                                                    random_state=42, stratify=y)\n",
    "\n",
    "# Como estamos trabajando con árboles, no vamos a realizar ninguna normalización\n",
    "\n",
    "# Cargamos las métricas de evaluación que usamos en el TP2\n",
    "from sklearn.metrics import confusion_matrix, ConfusionMatrixDisplay, fbeta_score\n"
   ]
  },
  {
   "cell_type": "markdown",
   "metadata": {},
   "source": [
    "Ya con el dataset leído y separado el entrenamiento y validación, podemos a realizar el entrenamiento.\n",
    "\n",
    "Antes de entrenar el modelo, vamos a realizar una búsqueda de hiperparametros. Vamos a usar una validación cruzada de 5 folds y una búsqueda de grilla.\n",
    "\n",
    "Para este caso vamos usar el podado de árboles, usando el coeficiente alpha (ccp_alpha). Además vamos a buscar el mejor criterio (Índice de Gini o Entropía)."
   ]
  },
  {
   "cell_type": "code",
   "execution_count": 21,
   "metadata": {},
   "outputs": [],
   "source": [
    "# Creamos el modelo base para buscar los hiperparámetros\n",
    "from sklearn.tree import DecisionTreeClassifier\n",
    "\n",
    "# Creamos el árbol\n",
    "clas_tree = DecisionTreeClassifier(splitter='best', max_depth=None, min_samples_split=2, \n",
    "                                   min_samples_leaf=1)\n"
   ]
  },
  {
   "cell_type": "code",
   "execution_count": 24,
   "metadata": {},
   "outputs": [
    {
     "name": "stdout",
     "output_type": "stream",
     "text": [
      "{'criterion': 'gini', 'max_depth': 2}\n"
     ]
    }
   ],
   "source": [
    "# Hacemos la búsqueda de grilla, como no podemos usar f0.5, vamos a usar a f1\n",
    "from sklearn.model_selection import GridSearchCV, StratifiedKFold\n",
    "\n",
    "grid_social = GridSearchCV(clas_tree,\n",
    "                           {\"max_depth\": np.arange(1, 11),\n",
    "                            \"criterion\": [\"gini\", \"entropy\"]},\n",
    "                           refit=True,\n",
    "                           cv=StratifiedKFold(n_splits=5, shuffle=True),\n",
    "                           scoring='f1',\n",
    "                           n_jobs=-1)\n",
    "grid_social.fit(X_train, y_train)\n",
    "\n",
    "# El mejor valor de hiperparámetros es:\n",
    "print(grid_social.best_params_)\n"
   ]
  },
  {
   "cell_type": "markdown",
   "metadata": {},
   "source": [
    "Nos quedamos con el mejor modelo elegido en nuestra búsqueda."
   ]
  },
  {
   "cell_type": "code",
   "execution_count": 25,
   "metadata": {},
   "outputs": [],
   "source": [
    "best_tree_social = grid_social.best_estimator_\n"
   ]
  },
  {
   "cell_type": "markdown",
   "metadata": {},
   "source": [
    "Ya elegido el mejor modelo, vamos a entrenar y evaluar el modelo."
   ]
  },
  {
   "cell_type": "code",
   "execution_count": 26,
   "metadata": {},
   "outputs": [
    {
     "name": "stdout",
     "output_type": "stream",
     "text": [
      "El mejor árbol tuvo un f0.5 de 0.844155844155844\n"
     ]
    }
   ],
   "source": [
    "# Entrenamos al modelo\n",
    "best_tree_social.fit(X_train, y_train)\n",
    "\n",
    "# Evaluamos el modelo\n",
    "y_pred = best_tree_social.predict(X_test)\n",
    "cm_tree = confusion_matrix(y_test, y_pred)\n",
    "f0_5_tree = fbeta_score(y_test, y_pred, zero_division=0, beta=0.5)\n",
    "\n",
    "print(f\"El mejor árbol tuvo un f0.5 de {f0_5_tree}\")\n"
   ]
  },
  {
   "cell_type": "code",
   "execution_count": 27,
   "metadata": {},
   "outputs": [
    {
     "data": {
      "image/png": "[encoded data removed]",
      "text/plain": [
       "<Figure size 600x600 with 2 Axes>"
      ]
     },
     "metadata": {},
     "output_type": "display_data"
    }
   ],
   "source": [
    "disp = ConfusionMatrixDisplay(confusion_matrix=cm_tree,\n",
    "                              display_labels=best_tree_social.classes_)\n",
    "\n",
    "fig, ax = plt.subplots(figsize=(6,6))\n",
    "ax.grid(False)\n",
    "disp.plot(ax=ax)\n",
    "ax.set_title(\"Clasificador árbol\");\n"
   ]
  },
  {
   "cell_type": "markdown",
   "metadata": {},
   "source": [
    "Comparando los modelos que realizamos:\n",
    "\n",
    "- Modelo de regresión logística\n",
    "- Modelo kNN\n",
    "- Árbol de decisión\n",
    "\n",
    "Las métricas que obtuvimos son:\n",
    "\n",
    "| Modelo              | F0.5 | Precisión | Especificidad |\n",
    "|---------------------|------|-----------|---------------|\n",
    "| Regresión logistica | ____ |    ____   |      ____     |\n",
    "| kNN                 | ____ |    ____   |      ____     |\n",
    "| Arbol de decisión   | ____ |    ____   |      ____     |\n",
    "\n",
    "\n",
    "                Modelo      F0.5  Precisión  Especificidad\n",
    "0  Regresión logística  0.000000   0.000000       1.000000\n",
    "1                  kNN  0.771429   0.818182       0.922078\n",
    "2    Árbol de decisión  0.814978   0.804348       0.883117\n",
    "\n",
    "\n",
    "En función a estos resultados y complejidad de los modelos, discutir cual es el mejor modelo. Algo extra que se puede hacer si desean, es ver el árbol que se arma y determinar los perfiles de usuarios que compran los productos que se publicitan usando graphwiz (ver el notebook que hicimos en clase)."
   ]
  },
  {
   "cell_type": "code",
   "execution_count": 30,
   "metadata": {},
   "outputs": [
    {
     "name": "stdout",
     "output_type": "stream",
     "text": [
      "El mejor modelo de regresión logística tuvo un F0.5-score de 0.8021390374331551\n",
      "Matriz de Confusión:\n",
      "[[71  6]\n",
      " [13 30]]\n"
     ]
    },
    {
     "name": "stderr",
     "output_type": "stream",
     "text": [
      "/home/gonzacarv/CEIoT/Aprendizaje/AprendizajeV2/Apre_Aut_CEIoT/.envTPs/lib/python3.11/site-packages/sklearn/model_selection/_validation.py:425: FitFailedWarning: \n",
      "30 fits failed out of a total of 60.\n",
      "The score on these train-test partitions for these parameters will be set to nan.\n",
      "If these failures are not expected, you can try to debug them by setting error_score='raise'.\n",
      "\n",
      "Below are more details about the failures:\n",
      "--------------------------------------------------------------------------------\n",
      "30 fits failed with the following error:\n",
      "Traceback (most recent call last):\n",
      "  File \"/home/gonzacarv/CEIoT/Aprendizaje/AprendizajeV2/Apre_Aut_CEIoT/.envTPs/lib/python3.11/site-packages/sklearn/model_selection/_validation.py\", line 729, in _fit_and_score\n",
      "    estimator.fit(X_train, y_train, **fit_params)\n",
      "  File \"/home/gonzacarv/CEIoT/Aprendizaje/AprendizajeV2/Apre_Aut_CEIoT/.envTPs/lib/python3.11/site-packages/sklearn/base.py\", line 1152, in wrapper\n",
      "    return fit_method(estimator, *args, **kwargs)\n",
      "           ^^^^^^^^^^^^^^^^^^^^^^^^^^^^^^^^^^^^^^\n",
      "  File \"/home/gonzacarv/CEIoT/Aprendizaje/AprendizajeV2/Apre_Aut_CEIoT/.envTPs/lib/python3.11/site-packages/sklearn/pipeline.py\", line 427, in fit\n",
      "    self._final_estimator.fit(Xt, y, **fit_params_last_step)\n",
      "  File \"/home/gonzacarv/CEIoT/Aprendizaje/AprendizajeV2/Apre_Aut_CEIoT/.envTPs/lib/python3.11/site-packages/sklearn/base.py\", line 1152, in wrapper\n",
      "    return fit_method(estimator, *args, **kwargs)\n",
      "           ^^^^^^^^^^^^^^^^^^^^^^^^^^^^^^^^^^^^^^\n",
      "  File \"/home/gonzacarv/CEIoT/Aprendizaje/AprendizajeV2/Apre_Aut_CEIoT/.envTPs/lib/python3.11/site-packages/sklearn/linear_model/_logistic.py\", line 1169, in fit\n",
      "    solver = _check_solver(self.solver, self.penalty, self.dual)\n",
      "             ^^^^^^^^^^^^^^^^^^^^^^^^^^^^^^^^^^^^^^^^^^^^^^^^^^^\n",
      "  File \"/home/gonzacarv/CEIoT/Aprendizaje/AprendizajeV2/Apre_Aut_CEIoT/.envTPs/lib/python3.11/site-packages/sklearn/linear_model/_logistic.py\", line 56, in _check_solver\n",
      "    raise ValueError(\n",
      "ValueError: Solver lbfgs supports only 'l2' or 'none' penalties, got l1 penalty.\n",
      "\n",
      "  warnings.warn(some_fits_failed_message, FitFailedWarning)\n",
      "/home/gonzacarv/CEIoT/Aprendizaje/AprendizajeV2/Apre_Aut_CEIoT/.envTPs/lib/python3.11/site-packages/sklearn/model_selection/_search.py:979: UserWarning: One or more of the test scores are non-finite: [       nan 0.                nan 0.51377486        nan 0.72573099\n",
      "        nan 0.77811056        nan 0.78140825        nan 0.78140825]\n",
      "  warnings.warn(\n"
     ]
    }
   ],
   "source": [
    "from sklearn.linear_model import LogisticRegression\n",
    "from sklearn.model_selection import GridSearchCV, train_test_split\n",
    "from sklearn.preprocessing import StandardScaler\n",
    "from sklearn.pipeline import make_pipeline\n",
    "\n",
    "# Cargamos el dataset y preparamos X e y\n",
    "social_df = pd.read_csv(\"datasets/Social_Network_Ads.csv\")\n",
    "social_df.drop(columns=\"User ID\", inplace=True)\n",
    "social_df = pd.get_dummies(social_df, columns=[\"Gender\"], drop_first=True)\n",
    "X = social_df[['Age', 'EstimatedSalary', 'Gender_Male']]\n",
    "y = social_df['Purchased']\n",
    "\n",
    "# Separamos en conjunto de entrenamiento y prueba\n",
    "X_train, X_test, y_train, y_test = train_test_split(X, y, test_size=0.3, random_state=42, stratify=y)\n",
    "\n",
    "# Creamos un pipeline con escalado y regresión logística\n",
    "pipeline = make_pipeline(StandardScaler(), LogisticRegression(random_state=0))\n",
    "\n",
    "# Definimos los hiperparámetros a explorar en la búsqueda en cuadrícula\n",
    "param_grid = {\n",
    "    'logisticregression__C': [0.001, 0.01, 0.1, 1, 10, 100],\n",
    "    'logisticregression__penalty': ['l1', 'l2']\n",
    "}\n",
    "\n",
    "# Realizamos la búsqueda en cuadrícula\n",
    "grid_search = GridSearchCV(pipeline, param_grid, cv=5, scoring='f1', n_jobs=-1)\n",
    "grid_search.fit(X_train, y_train)\n",
    "\n",
    "# Obtenemos el mejor modelo\n",
    "best_logistic_model = grid_search.best_estimator_\n",
    "\n",
    "# Evaluamos el modelo en el conjunto de prueba\n",
    "y_pred_logistic = best_logistic_model.predict(X_test)\n",
    "cm_logistic = confusion_matrix(y_test, y_pred_logistic)\n",
    "f0_5_logistic = fbeta_score(y_test, y_pred_logistic, beta=0.5)\n",
    "\n",
    "# Mostramos los resultados\n",
    "print(f\"El mejor modelo de regresión logística tuvo un F0.5-score de {f0_5_logistic}\")\n",
    "print(f\"Matriz de Confusión:\\n{cm_logistic}\")\n"
   ]
  },
  {
   "cell_type": "code",
   "execution_count": 31,
   "metadata": {},
   "outputs": [
    {
     "ename": "NameError",
     "evalue": "name 'y_pred_knn_5' is not defined",
     "output_type": "error",
     "traceback": [
      "\u001b[0;31m---------------------------------------------------------------------------\u001b[0m",
      "\u001b[0;31mNameError\u001b[0m                                 Traceback (most recent call last)",
      "Cell \u001b[0;32mIn[31], line 9\u001b[0m\n\u001b[1;32m      5\u001b[0m specificity_logistic \u001b[38;5;241m=\u001b[39m cm_logistic[\u001b[38;5;241m0\u001b[39m, \u001b[38;5;241m0\u001b[39m] \u001b[38;5;241m/\u001b[39m (cm_logistic[\u001b[38;5;241m0\u001b[39m, \u001b[38;5;241m0\u001b[39m] \u001b[38;5;241m+\u001b[39m cm_logistic[\u001b[38;5;241m0\u001b[39m, \u001b[38;5;241m1\u001b[39m])\n\u001b[1;32m      7\u001b[0m \u001b[38;5;66;03m# Resultados de kNN\u001b[39;00m\n\u001b[1;32m      8\u001b[0m \u001b[38;5;66;03m# (Asume que ya tienes resultados de kNN almacenados en variables como y_pred_knn_5, cm_knn_5, etc.)\u001b[39;00m\n\u001b[0;32m----> 9\u001b[0m f0_5_knn_5 \u001b[38;5;241m=\u001b[39m fbeta_score(y_test, \u001b[43my_pred_knn_5\u001b[49m, beta\u001b[38;5;241m=\u001b[39m\u001b[38;5;241m0.5\u001b[39m)\n\u001b[1;32m     10\u001b[0m precision_knn_5 \u001b[38;5;241m=\u001b[39m precision_score(y_test, y_pred_knn_5)\n\u001b[1;32m     11\u001b[0m specificity_knn_5 \u001b[38;5;241m=\u001b[39m cm_knn_5[\u001b[38;5;241m0\u001b[39m, \u001b[38;5;241m0\u001b[39m] \u001b[38;5;241m/\u001b[39m (cm_knn_5[\u001b[38;5;241m0\u001b[39m, \u001b[38;5;241m0\u001b[39m] \u001b[38;5;241m+\u001b[39m cm_knn_5[\u001b[38;5;241m0\u001b[39m, \u001b[38;5;241m1\u001b[39m])\n",
      "\u001b[0;31mNameError\u001b[0m: name 'y_pred_knn_5' is not defined"
     ]
    }
   ],
   "source": [
    "# Resultados de Regresión Logística\n",
    "cm_logistic = confusion_matrix(y_test, y_pred_logistic)\n",
    "f0_5_logistic = fbeta_score(y_test, y_pred_logistic, beta=0.5)\n",
    "precision_logistic = precision_score(y_test, y_pred_logistic)\n",
    "specificity_logistic = cm_logistic[0, 0] / (cm_logistic[0, 0] + cm_logistic[0, 1])\n",
    "\n",
    "# Resultados de kNN\n",
    "# (Asume que ya tienes resultados de kNN almacenados en variables como y_pred_knn_5, cm_knn_5, etc.)\n",
    "f0_5_knn_5 = fbeta_score(y_test, y_pred_knn_5, beta=0.5)\n",
    "precision_knn_5 = precision_score(y_test, y_pred_knn_5)\n",
    "specificity_knn_5 = cm_knn_5[0, 0] / (cm_knn_5[0, 0] + cm_knn_5[0, 1])\n",
    "\n",
    "# Resultados de Árbol de decisión\n",
    "# (Asume que ya tienes resultados de árbol almacenados en variables como y_pred_tree, cm_tree, etc.)\n",
    "f0_5_tree = fbeta_score(y_test, y_pred_tree, beta=0.5)\n",
    "precision_tree = precision_score(y_test, y_pred_tree)\n",
    "specificity_tree = cm_tree[0, 0] / (cm_tree[0, 0] + cm_tree[0, 1])\n",
    "\n",
    "# Crear DataFrame con los resultados\n",
    "results_df = pd.DataFrame({\n",
    "    'Modelo': ['Regresión Logística', 'kNN', 'Árbol de Decisión'],\n",
    "    'F0.5': [f0_5_logistic, f0_5_knn_5, f0_5_tree],\n",
    "    'Precisión': [precision_logistic, precision_knn_5, precision_tree],\n",
    "    'Especificidad': [specificity_logistic, specificity_knn_5, specificity_tree]\n",
    "})\n",
    "\n",
    "print(results_df)\n"
   ]
  },
  {
   "cell_type": "code",
   "execution_count": null,
   "metadata": {},
   "outputs": [],
   "source": []
  }
 ],
 "metadata": {
  "kernelspec": {
   "display_name": "Python 3 (ipykernel)",
   "language": "python",
   "name": "python3"
  },
  "language_info": {
   "codemirror_mode": {
    "name": "ipython",
    "version": 3
   },
   "file_extension": ".py",
   "mimetype": "text/x-python",
   "name": "python",
   "nbconvert_exporter": "python",
   "pygments_lexer": "ipython3",
   "version": "3.11.4"
  }
 },
 "nbformat": 4,
 "nbformat_minor": 4
}
